{
 "cells": [
  {
   "cell_type": "code",
   "execution_count": 11,
   "id": "05cbb63d",
   "metadata": {},
   "outputs": [],
   "source": [
    "import json\n",
    "\n",
    "from prettytable import PrettyTable\n",
    "from stringMatcher import levenshtein_ratio_and_distance\n",
    "from time import time\n",
    "\n",
    "table = PrettyTable(field_names=[\"UserID\", \"Rating\", \"Tags\", \"Timestamp\"])"
   ]
  },
  {
   "cell_type": "markdown",
   "id": "6312ea40",
   "metadata": {},
   "source": [
    "## Load The database into the memory..."
   ]
  },
  {
   "cell_type": "code",
   "execution_count": 27,
   "id": "c6aed5b8",
   "metadata": {},
   "outputs": [],
   "source": [
    "data = json.load(open(\"Data_Sets/dataFinal.json\", \"rb\"))\n",
    "GIS = json.load(open(\"Data_Sets/dataFinal_GIS.json\", \"rb\"))"
   ]
  },
  {
   "cell_type": "markdown",
   "id": "fdb1488c",
   "metadata": {},
   "source": [
    "## Load the Global Secondary index in the memory..."
   ]
  },
  {
   "cell_type": "code",
   "execution_count": 26,
   "id": "39fbd231",
   "metadata": {},
   "outputs": [],
   "source": [
    "def getClosestMatch(queryString):\n",
    "    # Initialize the time counter...\n",
    "    tic                  = time()\n",
    "    \n",
    "    # Find closest match of the queryString from the Global Secondary Index...\n",
    "    matchRatios          = [levenshtein_ratio_and_distance(queryString, KEY) for KEY, _ in GIS.items()]\n",
    "    bestMatchRatio       = max(matchRatios)\n",
    "\n",
    "    # If the best match ratio is less than 50% then we will assume that the records doesn't exist...\n",
    "    if (bestMatchRatio < 0.5):\n",
    "        return {\n",
    "            \"response code\" : 404,\n",
    "            \"search time\"   : f\"{time()-tic} seconds\",\n",
    "            \"message\"       : \"error\",\n",
    "            \"response body\" : \"no match found\"\n",
    "        }\n",
    "    \n",
    "    # Otherwise...\n",
    "    bestMatchRatio_index = matchRatios.index(bestMatchRatio)\n",
    "\n",
    "    # Find the anime_id of the anime which is the best match to the queryString...\n",
    "    bestMatch_AnimeTitle = list(GIS)[bestMatchRatio_index]\n",
    "    bestMatch_AnimeId    = GIS[bestMatch_AnimeTitle]\n",
    "\n",
    "    # Now we have anime_id which is the primary key in our main data-store...\n",
    "    # Retrieve the details of the anime from the anime_id\n",
    "    AnimeInfo            = data[str(bestMatch_AnimeId )]\n",
    "    \n",
    "    # Mark the search completion time...\n",
    "    toc                  = time()\n",
    "\n",
    "    # Add Movie Title to the response...\n",
    "    AnimeInfo[\"title\"] = bestMatch_AnimeTitle\n",
    "    # Construct the response Model...\n",
    "    responseModel = {\n",
    "        \"response code\" : 200,\n",
    "        \"search time\"   : f\"{toc-tic} seconds\",\n",
    "        \"message\"       : \"success\",\n",
    "        \"response body\" : AnimeInfo\n",
    "    }\n",
    "    \n",
    "    return responseModel"
   ]
  },
  {
   "cell_type": "markdown",
   "id": "2ac4279e",
   "metadata": {},
   "source": [
    "## Write a function to make a request and visualize the data returned by the search function..."
   ]
  },
  {
   "cell_type": "code",
   "execution_count": 28,
   "id": "4c9ecd39",
   "metadata": {},
   "outputs": [],
   "source": [
    "def request(AnimeToSearch=\"\"):\n",
    "    # Anime name should always be in a string...\n",
    "    AnimeToSearch = str(AnimeToSearch)\n",
    "    # Check if the movie name is valid...\n",
    "    if(AnimeToSearch.replace(\" \", \"\").strip() == \"\"):\n",
    "        return f\"Invalid Anime Name\"\n",
    "    \n",
    "    # Make a request to fetch the anime info...\n",
    "    response = getClosestMatch(queryString = AnimeToSearch)\n",
    "\n",
    "    # Check the response code...\n",
    "    if response[\"response code\"] == 404:\n",
    "        return f\"ERROR: No records found\"\n",
    "    \n",
    "    # otherwise... \n",
    "    data_to_print = f\"\\\n",
    "    Title          : {response['response body']['title']}\\n\\\n",
    "    Genre          : {response['response body']['genre']}\\n\\\n",
    "    Duration       : {response['response body']['duration']}\\n\\\n",
    "    Rating         : {response['response body']['member_rating']}\\n\\\n",
    "    Episodes       : {response['response body']['episodes']}\\n\\\n",
    "    \"\n",
    "    print(data_to_print)"
   ]
  },
  {
   "cell_type": "markdown",
   "id": "7c43caef",
   "metadata": {},
   "source": [
    "## Finally Make a request..."
   ]
  },
  {
   "cell_type": "code",
   "execution_count": 29,
   "id": "a65271de",
   "metadata": {},
   "outputs": [
    {
     "name": "stdout",
     "output_type": "stream",
     "text": [
      "    Title          : Cinderella Boy\n",
      "    Genre          : Action, Adventure, Mystery, Comedy, Seinen\n",
      "    Duration       : \n",
      "    Rating         : \n",
      "    Episodes       : \n",
      "    \n"
     ]
    }
   ],
   "source": [
    "request(AnimeToSearch=\"Hell Boy\")"
   ]
  }
 ],
 "metadata": {
  "kernelspec": {
   "display_name": "Python 3",
   "language": "python",
   "name": "python3"
  },
  "language_info": {
   "codemirror_mode": {
    "name": "ipython",
    "version": 3
   },
   "file_extension": ".py",
   "mimetype": "text/x-python",
   "name": "python",
   "nbconvert_exporter": "python",
   "pygments_lexer": "ipython3",
   "version": "3.8.8"
  }
 },
 "nbformat": 4,
 "nbformat_minor": 5
}
